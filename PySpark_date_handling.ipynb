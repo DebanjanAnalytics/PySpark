{
  "nbformat": 4,
  "nbformat_minor": 0,
  "metadata": {
    "colab": {
      "name": "Untitled0.ipynb",
      "provenance": [],
      "collapsed_sections": [],
      "authorship_tag": "ABX9TyMP90n10VovTfa9i3LMY5dp",
      "include_colab_link": true
    },
    "kernelspec": {
      "name": "python3",
      "display_name": "Python 3"
    },
    "language_info": {
      "name": "python"
    }
  },
  "cells": [
    {
      "cell_type": "markdown",
      "metadata": {
        "id": "view-in-github",
        "colab_type": "text"
      },
      "source": [
        "<a href=\"https://colab.research.google.com/github/DebanjanAnalytics/PySpark/blob/main/PySpark_date_handling.ipynb\" target=\"_parent\"><img src=\"https://colab.research.google.com/assets/colab-badge.svg\" alt=\"Open In Colab\"/></a>"
      ]
    },
    {
      "cell_type": "markdown",
      "metadata": {
        "id": "6eNHU49JLkMr"
      },
      "source": [
        "# Download and install Spark"
      ]
    },
    {
      "cell_type": "code",
      "metadata": {
        "colab": {
          "base_uri": "https://localhost:8080/"
        },
        "id": "zSqG18tFLoWr",
        "outputId": "d524bb25-ff9b-47fa-885d-5c21c7aa4f52"
      },
      "source": [
        "!apt-get update\n",
        "!apt-get install openjdk-8-jdk-headless -qq > /dev/null\n",
        "!wget -q http://archive.apache.org/dist/spark/spark-2.3.1/spark-2.3.1-bin-hadoop2.7.tgz\n",
        "!tar xf spark-2.3.1-bin-hadoop2.7.tgz\n",
        "!pip install -q findspark"
      ],
      "execution_count": 1,
      "outputs": [
        {
          "output_type": "stream",
          "name": "stdout",
          "text": [
            "\r0% [Working]\r            \rGet:1 http://security.ubuntu.com/ubuntu bionic-security InRelease [88.7 kB]\n",
            "\r0% [Connecting to archive.ubuntu.com (91.189.88.152)] [1 InRelease 0 B/88.7 kB \r0% [Connecting to archive.ubuntu.com (91.189.88.152)] [Connected to cloud.r-pro\r                                                                               \rGet:2 https://cloud.r-project.org/bin/linux/ubuntu bionic-cran40/ InRelease [3,626 B]\n",
            "\r0% [Connecting to archive.ubuntu.com (91.189.88.152)] [Waiting for headers] [Wa\r0% [1 InRelease gpgv 88.7 kB] [Connecting to archive.ubuntu.com (91.189.88.152)\r                                                                               \rIgn:3 https://developer.download.nvidia.com/compute/cuda/repos/ubuntu1804/x86_64  InRelease\n",
            "Get:4 http://ppa.launchpad.net/c2d4u.team/c2d4u4.0+/ubuntu bionic InRelease [15.9 kB]\n",
            "Hit:5 http://archive.ubuntu.com/ubuntu bionic InRelease\n",
            "Ign:6 https://developer.download.nvidia.com/compute/machine-learning/repos/ubuntu1804/x86_64  InRelease\n",
            "Get:7 https://developer.download.nvidia.com/compute/cuda/repos/ubuntu1804/x86_64  Release [696 B]\n",
            "Hit:8 https://developer.download.nvidia.com/compute/machine-learning/repos/ubuntu1804/x86_64  Release\n",
            "Get:9 https://developer.download.nvidia.com/compute/cuda/repos/ubuntu1804/x86_64  Release.gpg [836 B]\n",
            "Get:10 http://archive.ubuntu.com/ubuntu bionic-updates InRelease [88.7 kB]\n",
            "Hit:11 http://ppa.launchpad.net/cran/libgit2/ubuntu bionic InRelease\n",
            "Get:12 http://security.ubuntu.com/ubuntu bionic-security/universe amd64 Packages [1,428 kB]\n",
            "Get:13 http://security.ubuntu.com/ubuntu bionic-security/main amd64 Packages [2,320 kB]\n",
            "Get:14 http://ppa.launchpad.net/deadsnakes/ppa/ubuntu bionic InRelease [15.9 kB]\n",
            "Get:15 http://archive.ubuntu.com/ubuntu bionic-backports InRelease [74.6 kB]\n",
            "Get:16 http://security.ubuntu.com/ubuntu bionic-security/restricted amd64 Packages [560 kB]\n",
            "Hit:17 http://ppa.launchpad.net/graphics-drivers/ppa/ubuntu bionic InRelease\n",
            "Get:19 https://developer.download.nvidia.com/compute/cuda/repos/ubuntu1804/x86_64  Packages [717 kB]\n",
            "Get:20 http://ppa.launchpad.net/c2d4u.team/c2d4u4.0+/ubuntu bionic/main Sources [1,796 kB]\n",
            "Get:21 http://archive.ubuntu.com/ubuntu bionic-updates/main amd64 Packages [2,755 kB]\n",
            "Get:22 http://ppa.launchpad.net/c2d4u.team/c2d4u4.0+/ubuntu bionic/main amd64 Packages [919 kB]\n",
            "Get:23 http://archive.ubuntu.com/ubuntu bionic-updates/restricted amd64 Packages [593 kB]\n",
            "Get:24 http://archive.ubuntu.com/ubuntu bionic-updates/universe amd64 Packages [2,202 kB]\n",
            "Get:25 http://ppa.launchpad.net/deadsnakes/ppa/ubuntu bionic/main amd64 Packages [40.8 kB]\n",
            "Fetched 13.6 MB in 3s (4,176 kB/s)\n",
            "Reading package lists... Done\n"
          ]
        }
      ]
    },
    {
      "cell_type": "code",
      "metadata": {
        "colab": {
          "base_uri": "https://localhost:8080/",
          "height": 219
        },
        "id": "Wf5RkjwzLrOp",
        "outputId": "2146c722-7c7c-4611-ede5-181ce2a2463f"
      },
      "source": [
        "import os\n",
        "os.environ[\"JAVA_HOME\"] = \"/usr/lib/jvm/java-8-openjdk-amd64\"\n",
        "os.environ[\"SPARK_HOME\"] = \"/content/spark-2.3.1-bin-hadoop2.7\"\n",
        "\n",
        "import findspark\n",
        "findspark.init()\n",
        "from pyspark import SparkContext\n",
        "sc = SparkContext.getOrCreate()\n",
        "\n",
        "import pyspark\n",
        "from pyspark.sql import SparkSession\n",
        "spark = SparkSession.builder.getOrCreate() \n",
        "spark"
      ],
      "execution_count": 2,
      "outputs": [
        {
          "output_type": "execute_result",
          "data": {
            "text/html": [
              "\n",
              "            <div>\n",
              "                <p><b>SparkSession - in-memory</b></p>\n",
              "                \n",
              "        <div>\n",
              "            <p><b>SparkContext</b></p>\n",
              "\n",
              "            <p><a href=\"http://76e14dc6636c:4040\">Spark UI</a></p>\n",
              "\n",
              "            <dl>\n",
              "              <dt>Version</dt>\n",
              "                <dd><code>v2.3.1</code></dd>\n",
              "              <dt>Master</dt>\n",
              "                <dd><code>local[*]</code></dd>\n",
              "              <dt>AppName</dt>\n",
              "                <dd><code>pyspark-shell</code></dd>\n",
              "            </dl>\n",
              "        </div>\n",
              "        \n",
              "            </div>\n",
              "        "
            ],
            "text/plain": [
              "<pyspark.sql.session.SparkSession at 0x7f362fb8c6d0>"
            ]
          },
          "metadata": {},
          "execution_count": 2
        }
      ]
    },
    {
      "cell_type": "code",
      "metadata": {
        "id": "Uigy_BhMMezX"
      },
      "source": [
        "from pyspark.sql.functions import *"
      ],
      "execution_count": 4,
      "outputs": []
    },
    {
      "cell_type": "markdown",
      "metadata": {
        "id": "VhxTGdH3MRB5"
      },
      "source": [
        "Create a sample date - 28-06-2021 07:30:00"
      ]
    },
    {
      "cell_type": "code",
      "metadata": {
        "colab": {
          "base_uri": "https://localhost:8080/"
        },
        "id": "4Sqbm7_uLvYD",
        "outputId": "7e21c62d-afe7-482e-f376-d21c75b15f87"
      },
      "source": [
        "df = spark.createDataFrame([('28-06-2021 07:30:00',)],['Random'])\n",
        "df.show()"
      ],
      "execution_count": 11,
      "outputs": [
        {
          "output_type": "stream",
          "name": "stdout",
          "text": [
            "+-------------------+\n",
            "|             Random|\n",
            "+-------------------+\n",
            "|28-06-2021 07:30:00|\n",
            "+-------------------+\n",
            "\n"
          ]
        }
      ]
    },
    {
      "cell_type": "code",
      "metadata": {
        "colab": {
          "base_uri": "https://localhost:8080/"
        },
        "id": "DNWc5gAaM0yL",
        "outputId": "0c881c12-55f1-4d26-9b0e-5f653a0f8148"
      },
      "source": [
        "df.select(to_date(col('Random'),'dd-MM-yyyy HH:mm:ss')).show()"
      ],
      "execution_count": 13,
      "outputs": [
        {
          "output_type": "stream",
          "name": "stdout",
          "text": [
            "+----------------------------------------+\n",
            "|to_date(`Random`, 'dd-MM-yyyy HH:mm:ss')|\n",
            "+----------------------------------------+\n",
            "|                              2021-06-28|\n",
            "+----------------------------------------+\n",
            "\n"
          ]
        }
      ]
    },
    {
      "cell_type": "code",
      "metadata": {
        "colab": {
          "base_uri": "https://localhost:8080/"
        },
        "id": "P0jxGvRlPGkp",
        "outputId": "4e725546-9013-49b3-d142-5505328371a4"
      },
      "source": [
        "df.select(to_timestamp(col('Random'),'dd-MM-yyyy HH:mm:ss')).show()"
      ],
      "execution_count": 14,
      "outputs": [
        {
          "output_type": "stream",
          "name": "stdout",
          "text": [
            "+---------------------------------------------+\n",
            "|to_timestamp(`Random`, 'dd-MM-yyyy HH:mm:ss')|\n",
            "+---------------------------------------------+\n",
            "|                          2021-06-28 07:30:00|\n",
            "+---------------------------------------------+\n",
            "\n"
          ]
        }
      ]
    },
    {
      "cell_type": "code",
      "metadata": {
        "colab": {
          "base_uri": "https://localhost:8080/"
        },
        "id": "0I2DIPYdPfhT",
        "outputId": "228c6a99-4176-442d-e3a1-e03ef4ff2782"
      },
      "source": [
        "df.select(date_add(to_date(col('Random'),'dd-MM-yyyy HH:mm:ss'),3), date_sub(to_date(col('Random'),'dd-MM-yyyy HH:mm:ss'),3)).show()"
      ],
      "execution_count": 17,
      "outputs": [
        {
          "output_type": "stream",
          "name": "stdout",
          "text": [
            "+-----------------------------------------------------+-----------------------------------------------------+\n",
            "|date_add(to_date(`Random`, 'dd-MM-yyyy HH:mm:ss'), 3)|date_sub(to_date(`Random`, 'dd-MM-yyyy HH:mm:ss'), 3)|\n",
            "+-----------------------------------------------------+-----------------------------------------------------+\n",
            "|                                           2021-07-01|                                           2021-06-25|\n",
            "+-----------------------------------------------------+-----------------------------------------------------+\n",
            "\n"
          ]
        }
      ]
    },
    {
      "cell_type": "markdown",
      "metadata": {
        "id": "FLWD5BYoOAKB"
      },
      "source": [
        "Sample date - 28/Jun/2021 07:30:00"
      ]
    },
    {
      "cell_type": "code",
      "metadata": {
        "colab": {
          "base_uri": "https://localhost:8080/"
        },
        "id": "x1HIk8tyOJWO",
        "outputId": "60786299-4921-4ee1-fa30-d0291c6459b1"
      },
      "source": [
        "df = spark.createDataFrame([('28/Jun/2021 07:30:00',)],['Random'])\n",
        "df.show()\n",
        "df.select(to_timestamp(col('Random'),'dd/MMM/yyyy HH:mm:ss')).show()"
      ],
      "execution_count": 18,
      "outputs": [
        {
          "output_type": "stream",
          "name": "stdout",
          "text": [
            "+--------------------+\n",
            "|              Random|\n",
            "+--------------------+\n",
            "|28/Jun/2021 07:30:00|\n",
            "+--------------------+\n",
            "\n",
            "+----------------------------------------------+\n",
            "|to_timestamp(`Random`, 'dd/MMM/yyyy HH:mm:ss')|\n",
            "+----------------------------------------------+\n",
            "|                           2021-06-28 07:30:00|\n",
            "+----------------------------------------------+\n",
            "\n"
          ]
        }
      ]
    },
    {
      "cell_type": "markdown",
      "metadata": {
        "id": "K6IG5XseOJ4d"
      },
      "source": [
        "Sample date - 06/28/2021 07:30:00 AM"
      ]
    },
    {
      "cell_type": "code",
      "metadata": {
        "colab": {
          "base_uri": "https://localhost:8080/"
        },
        "id": "XOSol9rIOQ8N",
        "outputId": "ce09053e-a00a-44cc-a0bc-67df0e72d217"
      },
      "source": [
        "df = spark.createDataFrame([('06/28/2021 07:30:00 AM',)],['Random'])\n",
        "df.show()\n",
        "df.select(to_timestamp(col('Random'),'MM/dd/yyyy hh:mm:ss aa')).show()"
      ],
      "execution_count": 19,
      "outputs": [
        {
          "output_type": "stream",
          "name": "stdout",
          "text": [
            "+--------------------+\n",
            "|              Random|\n",
            "+--------------------+\n",
            "|06/28/2021 07:30:...|\n",
            "+--------------------+\n",
            "\n",
            "+------------------------------------------------+\n",
            "|to_timestamp(`Random`, 'MM/dd/yyyy hh:mm:ss aa')|\n",
            "+------------------------------------------------+\n",
            "|                             2021-06-28 07:30:00|\n",
            "+------------------------------------------------+\n",
            "\n"
          ]
        }
      ]
    },
    {
      "cell_type": "code",
      "metadata": {
        "colab": {
          "base_uri": "https://localhost:8080/"
        },
        "id": "MW-GM58qQrPP",
        "outputId": "664bbe7d-2096-4851-a28a-fa775ece33e9"
      },
      "source": [
        "df = spark.createDataFrame([('06/28/2021 07:30:00 PM',)],['Random'])\n",
        "df.show()\n",
        "df.select(to_timestamp(col('Random'),'MM/dd/yyyy hh:mm:ss aa')).show()"
      ],
      "execution_count": 20,
      "outputs": [
        {
          "output_type": "stream",
          "name": "stdout",
          "text": [
            "+--------------------+\n",
            "|              Random|\n",
            "+--------------------+\n",
            "|06/28/2021 07:30:...|\n",
            "+--------------------+\n",
            "\n",
            "+------------------------------------------------+\n",
            "|to_timestamp(`Random`, 'MM/dd/yyyy hh:mm:ss aa')|\n",
            "+------------------------------------------------+\n",
            "|                             2021-06-28 19:30:00|\n",
            "+------------------------------------------------+\n",
            "\n"
          ]
        }
      ]
    },
    {
      "cell_type": "code",
      "metadata": {
        "id": "gCIESwLKQmWK"
      },
      "source": [
        ""
      ],
      "execution_count": null,
      "outputs": []
    }
  ]
}